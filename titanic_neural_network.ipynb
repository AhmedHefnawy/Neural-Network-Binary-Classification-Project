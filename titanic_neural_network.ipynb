{
  "nbformat": 4,
  "nbformat_minor": 0,
  "metadata": {
    "kernelspec": {
      "display_name": "Python 3",
      "language": "python",
      "name": "python3"
    },
    "language_info": {
      "codemirror_mode": {
        "name": "ipython",
        "version": 3
      },
      "file_extension": ".py",
      "mimetype": "text/x-python",
      "name": "python",
      "nbconvert_exporter": "python",
      "pygments_lexer": "ipython3",
      "version": "3.6.3"
    },
    "colab": {
      "name": "titanic-neural-network.ipynb",
      "provenance": [],
      "include_colab_link": true
    }
  },
  "cells": [
    {
      "cell_type": "markdown",
      "metadata": {
        "id": "view-in-github",
        "colab_type": "text"
      },
      "source": [
        "<a href=\"https://colab.research.google.com/github/AhmedHefnawy/Neural-Network-Binary-Classification-Project/blob/master/titanic_neural_network.ipynb\" target=\"_parent\"><img src=\"https://colab.research.google.com/assets/colab-badge.svg\" alt=\"Open In Colab\"/></a>"
      ]
    },
    {
      "cell_type": "code",
      "metadata": {
        "_cell_guid": "9e319230-1cc2-4b19-ad66-06a07e07fc60",
        "_execution_state": "idle",
        "_uuid": "03de849fb872e11b3db2a2c99563783ce6ba784f",
        "id": "BrH8O-2eYBSO",
        "colab_type": "code",
        "colab": {
          "base_uri": "https://localhost:8080/",
          "height": 508
        },
        "outputId": "bbaf79f0-5a44-44a9-8e82-341031e487e5"
      },
      "source": [
        "# Import libraries\n",
        "import numpy as np\n",
        "import pandas as pd\n",
        "import matplotlib.pyplot as plt\n",
        "import seaborn as sns\n",
        "%matplotlib inline\n",
        "\n",
        "# ignore Deprecation Warning\n",
        "import warnings\n",
        "warnings.filterwarnings(\"ignore\", category=DeprecationWarning) \n",
        "\n",
        "from sklearn.ensemble import RandomForestRegressor\n",
        "#from sklearn.ensemble import RandomForestClassifier\n",
        "#from xgboost import XGBClassifier\n",
        "#from sklearn.model_selection import cross_val_score\n",
        "#from sklearn.model_selection import GridSearchCV\n",
        "\n",
        "import keras \n",
        "from keras.models import Sequential # intitialize the ANN\n",
        "from keras.layers import Dense      # create layers\n",
        "\n",
        "# load the data\n",
        "df_train = pd.read_csv('../input/train.csv')\n",
        "df_test = pd.read_csv('../input/test.csv')\n",
        "df = df_train.append(df_test , ignore_index = True)\n",
        "\n",
        "# some quick inspections\n",
        "df_train.shape, df_test.shape, df_train.columns.values"
      ],
      "execution_count": 1,
      "outputs": [
        {
          "output_type": "stream",
          "text": [
            "/usr/local/lib/python3.6/dist-packages/statsmodels/tools/_testing.py:19: FutureWarning: pandas.util.testing is deprecated. Use the functions in the public API at pandas.testing instead.\n",
            "  import pandas.util.testing as tm\n",
            "Using TensorFlow backend.\n"
          ],
          "name": "stderr"
        },
        {
          "output_type": "error",
          "ename": "FileNotFoundError",
          "evalue": "ignored",
          "traceback": [
            "\u001b[0;31m---------------------------------------------------------------------------\u001b[0m",
            "\u001b[0;31mFileNotFoundError\u001b[0m                         Traceback (most recent call last)",
            "\u001b[0;32m<ipython-input-1-ccec09010838>\u001b[0m in \u001b[0;36m<module>\u001b[0;34m()\u001b[0m\n\u001b[1;32m     21\u001b[0m \u001b[0;34m\u001b[0m\u001b[0m\n\u001b[1;32m     22\u001b[0m \u001b[0;31m# load the data\u001b[0m\u001b[0;34m\u001b[0m\u001b[0;34m\u001b[0m\u001b[0;34m\u001b[0m\u001b[0m\n\u001b[0;32m---> 23\u001b[0;31m \u001b[0mdf_train\u001b[0m \u001b[0;34m=\u001b[0m \u001b[0mpd\u001b[0m\u001b[0;34m.\u001b[0m\u001b[0mread_csv\u001b[0m\u001b[0;34m(\u001b[0m\u001b[0;34m'../input/train.csv'\u001b[0m\u001b[0;34m)\u001b[0m\u001b[0;34m\u001b[0m\u001b[0;34m\u001b[0m\u001b[0m\n\u001b[0m\u001b[1;32m     24\u001b[0m \u001b[0mdf_test\u001b[0m \u001b[0;34m=\u001b[0m \u001b[0mpd\u001b[0m\u001b[0;34m.\u001b[0m\u001b[0mread_csv\u001b[0m\u001b[0;34m(\u001b[0m\u001b[0;34m'../input/test.csv'\u001b[0m\u001b[0;34m)\u001b[0m\u001b[0;34m\u001b[0m\u001b[0;34m\u001b[0m\u001b[0m\n\u001b[1;32m     25\u001b[0m \u001b[0mdf\u001b[0m \u001b[0;34m=\u001b[0m \u001b[0mdf_train\u001b[0m\u001b[0;34m.\u001b[0m\u001b[0mappend\u001b[0m\u001b[0;34m(\u001b[0m\u001b[0mdf_test\u001b[0m \u001b[0;34m,\u001b[0m \u001b[0mignore_index\u001b[0m \u001b[0;34m=\u001b[0m \u001b[0;32mTrue\u001b[0m\u001b[0;34m)\u001b[0m\u001b[0;34m\u001b[0m\u001b[0;34m\u001b[0m\u001b[0m\n",
            "\u001b[0;32m/usr/local/lib/python3.6/dist-packages/pandas/io/parsers.py\u001b[0m in \u001b[0;36mparser_f\u001b[0;34m(filepath_or_buffer, sep, delimiter, header, names, index_col, usecols, squeeze, prefix, mangle_dupe_cols, dtype, engine, converters, true_values, false_values, skipinitialspace, skiprows, skipfooter, nrows, na_values, keep_default_na, na_filter, verbose, skip_blank_lines, parse_dates, infer_datetime_format, keep_date_col, date_parser, dayfirst, cache_dates, iterator, chunksize, compression, thousands, decimal, lineterminator, quotechar, quoting, doublequote, escapechar, comment, encoding, dialect, error_bad_lines, warn_bad_lines, delim_whitespace, low_memory, memory_map, float_precision)\u001b[0m\n\u001b[1;32m    674\u001b[0m         )\n\u001b[1;32m    675\u001b[0m \u001b[0;34m\u001b[0m\u001b[0m\n\u001b[0;32m--> 676\u001b[0;31m         \u001b[0;32mreturn\u001b[0m \u001b[0m_read\u001b[0m\u001b[0;34m(\u001b[0m\u001b[0mfilepath_or_buffer\u001b[0m\u001b[0;34m,\u001b[0m \u001b[0mkwds\u001b[0m\u001b[0;34m)\u001b[0m\u001b[0;34m\u001b[0m\u001b[0;34m\u001b[0m\u001b[0m\n\u001b[0m\u001b[1;32m    677\u001b[0m \u001b[0;34m\u001b[0m\u001b[0m\n\u001b[1;32m    678\u001b[0m     \u001b[0mparser_f\u001b[0m\u001b[0;34m.\u001b[0m\u001b[0m__name__\u001b[0m \u001b[0;34m=\u001b[0m \u001b[0mname\u001b[0m\u001b[0;34m\u001b[0m\u001b[0;34m\u001b[0m\u001b[0m\n",
            "\u001b[0;32m/usr/local/lib/python3.6/dist-packages/pandas/io/parsers.py\u001b[0m in \u001b[0;36m_read\u001b[0;34m(filepath_or_buffer, kwds)\u001b[0m\n\u001b[1;32m    446\u001b[0m \u001b[0;34m\u001b[0m\u001b[0m\n\u001b[1;32m    447\u001b[0m     \u001b[0;31m# Create the parser.\u001b[0m\u001b[0;34m\u001b[0m\u001b[0;34m\u001b[0m\u001b[0;34m\u001b[0m\u001b[0m\n\u001b[0;32m--> 448\u001b[0;31m     \u001b[0mparser\u001b[0m \u001b[0;34m=\u001b[0m \u001b[0mTextFileReader\u001b[0m\u001b[0;34m(\u001b[0m\u001b[0mfp_or_buf\u001b[0m\u001b[0;34m,\u001b[0m \u001b[0;34m**\u001b[0m\u001b[0mkwds\u001b[0m\u001b[0;34m)\u001b[0m\u001b[0;34m\u001b[0m\u001b[0;34m\u001b[0m\u001b[0m\n\u001b[0m\u001b[1;32m    449\u001b[0m \u001b[0;34m\u001b[0m\u001b[0m\n\u001b[1;32m    450\u001b[0m     \u001b[0;32mif\u001b[0m \u001b[0mchunksize\u001b[0m \u001b[0;32mor\u001b[0m \u001b[0miterator\u001b[0m\u001b[0;34m:\u001b[0m\u001b[0;34m\u001b[0m\u001b[0;34m\u001b[0m\u001b[0m\n",
            "\u001b[0;32m/usr/local/lib/python3.6/dist-packages/pandas/io/parsers.py\u001b[0m in \u001b[0;36m__init__\u001b[0;34m(self, f, engine, **kwds)\u001b[0m\n\u001b[1;32m    878\u001b[0m             \u001b[0mself\u001b[0m\u001b[0;34m.\u001b[0m\u001b[0moptions\u001b[0m\u001b[0;34m[\u001b[0m\u001b[0;34m\"has_index_names\"\u001b[0m\u001b[0;34m]\u001b[0m \u001b[0;34m=\u001b[0m \u001b[0mkwds\u001b[0m\u001b[0;34m[\u001b[0m\u001b[0;34m\"has_index_names\"\u001b[0m\u001b[0;34m]\u001b[0m\u001b[0;34m\u001b[0m\u001b[0;34m\u001b[0m\u001b[0m\n\u001b[1;32m    879\u001b[0m \u001b[0;34m\u001b[0m\u001b[0m\n\u001b[0;32m--> 880\u001b[0;31m         \u001b[0mself\u001b[0m\u001b[0;34m.\u001b[0m\u001b[0m_make_engine\u001b[0m\u001b[0;34m(\u001b[0m\u001b[0mself\u001b[0m\u001b[0;34m.\u001b[0m\u001b[0mengine\u001b[0m\u001b[0;34m)\u001b[0m\u001b[0;34m\u001b[0m\u001b[0;34m\u001b[0m\u001b[0m\n\u001b[0m\u001b[1;32m    881\u001b[0m \u001b[0;34m\u001b[0m\u001b[0m\n\u001b[1;32m    882\u001b[0m     \u001b[0;32mdef\u001b[0m \u001b[0mclose\u001b[0m\u001b[0;34m(\u001b[0m\u001b[0mself\u001b[0m\u001b[0;34m)\u001b[0m\u001b[0;34m:\u001b[0m\u001b[0;34m\u001b[0m\u001b[0;34m\u001b[0m\u001b[0m\n",
            "\u001b[0;32m/usr/local/lib/python3.6/dist-packages/pandas/io/parsers.py\u001b[0m in \u001b[0;36m_make_engine\u001b[0;34m(self, engine)\u001b[0m\n\u001b[1;32m   1112\u001b[0m     \u001b[0;32mdef\u001b[0m \u001b[0m_make_engine\u001b[0m\u001b[0;34m(\u001b[0m\u001b[0mself\u001b[0m\u001b[0;34m,\u001b[0m \u001b[0mengine\u001b[0m\u001b[0;34m=\u001b[0m\u001b[0;34m\"c\"\u001b[0m\u001b[0;34m)\u001b[0m\u001b[0;34m:\u001b[0m\u001b[0;34m\u001b[0m\u001b[0;34m\u001b[0m\u001b[0m\n\u001b[1;32m   1113\u001b[0m         \u001b[0;32mif\u001b[0m \u001b[0mengine\u001b[0m \u001b[0;34m==\u001b[0m \u001b[0;34m\"c\"\u001b[0m\u001b[0;34m:\u001b[0m\u001b[0;34m\u001b[0m\u001b[0;34m\u001b[0m\u001b[0m\n\u001b[0;32m-> 1114\u001b[0;31m             \u001b[0mself\u001b[0m\u001b[0;34m.\u001b[0m\u001b[0m_engine\u001b[0m \u001b[0;34m=\u001b[0m \u001b[0mCParserWrapper\u001b[0m\u001b[0;34m(\u001b[0m\u001b[0mself\u001b[0m\u001b[0;34m.\u001b[0m\u001b[0mf\u001b[0m\u001b[0;34m,\u001b[0m \u001b[0;34m**\u001b[0m\u001b[0mself\u001b[0m\u001b[0;34m.\u001b[0m\u001b[0moptions\u001b[0m\u001b[0;34m)\u001b[0m\u001b[0;34m\u001b[0m\u001b[0;34m\u001b[0m\u001b[0m\n\u001b[0m\u001b[1;32m   1115\u001b[0m         \u001b[0;32melse\u001b[0m\u001b[0;34m:\u001b[0m\u001b[0;34m\u001b[0m\u001b[0;34m\u001b[0m\u001b[0m\n\u001b[1;32m   1116\u001b[0m             \u001b[0;32mif\u001b[0m \u001b[0mengine\u001b[0m \u001b[0;34m==\u001b[0m \u001b[0;34m\"python\"\u001b[0m\u001b[0;34m:\u001b[0m\u001b[0;34m\u001b[0m\u001b[0;34m\u001b[0m\u001b[0m\n",
            "\u001b[0;32m/usr/local/lib/python3.6/dist-packages/pandas/io/parsers.py\u001b[0m in \u001b[0;36m__init__\u001b[0;34m(self, src, **kwds)\u001b[0m\n\u001b[1;32m   1889\u001b[0m         \u001b[0mkwds\u001b[0m\u001b[0;34m[\u001b[0m\u001b[0;34m\"usecols\"\u001b[0m\u001b[0;34m]\u001b[0m \u001b[0;34m=\u001b[0m \u001b[0mself\u001b[0m\u001b[0;34m.\u001b[0m\u001b[0musecols\u001b[0m\u001b[0;34m\u001b[0m\u001b[0;34m\u001b[0m\u001b[0m\n\u001b[1;32m   1890\u001b[0m \u001b[0;34m\u001b[0m\u001b[0m\n\u001b[0;32m-> 1891\u001b[0;31m         \u001b[0mself\u001b[0m\u001b[0;34m.\u001b[0m\u001b[0m_reader\u001b[0m \u001b[0;34m=\u001b[0m \u001b[0mparsers\u001b[0m\u001b[0;34m.\u001b[0m\u001b[0mTextReader\u001b[0m\u001b[0;34m(\u001b[0m\u001b[0msrc\u001b[0m\u001b[0;34m,\u001b[0m \u001b[0;34m**\u001b[0m\u001b[0mkwds\u001b[0m\u001b[0;34m)\u001b[0m\u001b[0;34m\u001b[0m\u001b[0;34m\u001b[0m\u001b[0m\n\u001b[0m\u001b[1;32m   1892\u001b[0m         \u001b[0mself\u001b[0m\u001b[0;34m.\u001b[0m\u001b[0munnamed_cols\u001b[0m \u001b[0;34m=\u001b[0m \u001b[0mself\u001b[0m\u001b[0;34m.\u001b[0m\u001b[0m_reader\u001b[0m\u001b[0;34m.\u001b[0m\u001b[0munnamed_cols\u001b[0m\u001b[0;34m\u001b[0m\u001b[0;34m\u001b[0m\u001b[0m\n\u001b[1;32m   1893\u001b[0m \u001b[0;34m\u001b[0m\u001b[0m\n",
            "\u001b[0;32mpandas/_libs/parsers.pyx\u001b[0m in \u001b[0;36mpandas._libs.parsers.TextReader.__cinit__\u001b[0;34m()\u001b[0m\n",
            "\u001b[0;32mpandas/_libs/parsers.pyx\u001b[0m in \u001b[0;36mpandas._libs.parsers.TextReader._setup_parser_source\u001b[0;34m()\u001b[0m\n",
            "\u001b[0;31mFileNotFoundError\u001b[0m: [Errno 2] File ../input/train.csv does not exist: '../input/train.csv'"
          ]
        }
      ]
    },
    {
      "cell_type": "markdown",
      "metadata": {
        "_cell_guid": "e6a9841c-8f1a-459f-b19e-c598776d075b",
        "_execution_state": "idle",
        "_uuid": "5016646709d22df2036bbd937cadc44c2d5b67d4",
        "id": "owG-N7dxYBST",
        "colab_type": "text"
      },
      "source": [
        "Let's look at individual features one by one:\n",
        "\n",
        "## Pclass"
      ]
    },
    {
      "cell_type": "code",
      "metadata": {
        "_cell_guid": "8ac53d3d-bf63-4b0a-b4dd-cf69ebb1b189",
        "_execution_state": "idle",
        "_uuid": "7a92a95fd0642b65500aa0fe2d5453f8f9cff24c",
        "id": "tZMY6E3KYBSU",
        "colab_type": "code",
        "colab": {}
      },
      "source": [
        "# check if there is any NAN\n",
        "df['Pclass'].isnull().sum(axis=0)"
      ],
      "execution_count": null,
      "outputs": []
    },
    {
      "cell_type": "code",
      "metadata": {
        "_cell_guid": "366c466d-d5f1-41f2-9568-3abc426bfc75",
        "_execution_state": "idle",
        "_uuid": "d380019bd6179b6ddcde472ce10771788ae204f4",
        "id": "ZRhYY8JEYBSX",
        "colab_type": "code",
        "colab": {}
      },
      "source": [
        "# inspect the correlation between Pclass and Survived\n",
        "df[['Pclass', 'Survived']].groupby(['Pclass'], as_index=False).mean()"
      ],
      "execution_count": null,
      "outputs": []
    },
    {
      "cell_type": "markdown",
      "metadata": {
        "_cell_guid": "631684de-c518-485b-9456-34eff56235e0",
        "_execution_state": "idle",
        "_uuid": "12fb136756bac860d6e5ef19a0cd5083ccceba69",
        "id": "oByOw6nDYBSb",
        "colab_type": "text"
      },
      "source": [
        "Pclass should be a very useful featrue"
      ]
    },
    {
      "cell_type": "markdown",
      "metadata": {
        "_cell_guid": "cf76f8ac-cc51-4ffb-8066-b605c5aa971c",
        "_execution_state": "idle",
        "_uuid": "617016b19a60d3ae9b2b1dbfefb73f4fb56e13a9",
        "id": "kYVJjWc3YBSc",
        "colab_type": "text"
      },
      "source": [
        "## Name"
      ]
    },
    {
      "cell_type": "code",
      "metadata": {
        "_cell_guid": "fa11d6a2-ad3d-443b-8579-de525fdd20c1",
        "_execution_state": "idle",
        "_uuid": "a40e18c8e9fe2692dec94722cc6ab316d71b5003",
        "id": "aSDmZS1fYBSd",
        "colab_type": "code",
        "colab": {}
      },
      "source": [
        "df.Name.head(10)"
      ],
      "execution_count": null,
      "outputs": []
    },
    {
      "cell_type": "markdown",
      "metadata": {
        "_cell_guid": "0999117e-8f23-4f1f-ad3c-44c673b68c01",
        "_execution_state": "idle",
        "_uuid": "377bf53e885fb8a4e49d1cdc07bed9951c053da2",
        "id": "sq5Xs-74YBSg",
        "colab_type": "text"
      },
      "source": [
        "Each name has a title, which is clearly what matters since it contains information of gender or status. Let's extract the titles from these names."
      ]
    },
    {
      "cell_type": "code",
      "metadata": {
        "_cell_guid": "bb1fc2fe-1947-4f89-99fa-d621711615fc",
        "_execution_state": "idle",
        "_uuid": "93e6890cecf2d3ae919ec30b24588d780092720d",
        "id": "vRVJmVg3YBSh",
        "colab_type": "code",
        "colab": {}
      },
      "source": [
        "df['Title'] = df.Name.map( lambda x: x.split(',')[1].split( '.' )[0].strip())\n",
        "\n",
        "# inspect the amount of people for each title\n",
        "df['Title'].value_counts()"
      ],
      "execution_count": null,
      "outputs": []
    },
    {
      "cell_type": "markdown",
      "metadata": {
        "_cell_guid": "55379dcf-99ec-4919-a624-05e06254859b",
        "_execution_state": "idle",
        "_uuid": "0070b1a5c3e802ebdad33ca5b960653be96c5281",
        "id": "kQvpbEwsYBSj",
        "colab_type": "text"
      },
      "source": [
        "Looks like the main ones are \"Master\", \"Miss\", \"Mr\", \"Mrs\". Some of the others can be be merged into some of these four categories. For the rest, I'll just call them 'Others'"
      ]
    },
    {
      "cell_type": "code",
      "metadata": {
        "_cell_guid": "67b67929-d7c3-4d52-9cde-eb37b4ef256d",
        "_execution_state": "idle",
        "_uuid": "a7840964bab69268bcc0e2516770f7faf00aad1d",
        "id": "GAC7AxLqYBSk",
        "colab_type": "code",
        "colab": {}
      },
      "source": [
        "df['Title'] = df['Title'].replace('Mlle', 'Miss')\n",
        "df['Title'] = df['Title'].replace(['Mme','Lady','Ms'], 'Mrs')\n",
        "df.Title.loc[ (df.Title !=  'Master') & (df.Title !=  'Mr') & (df.Title !=  'Miss') \n",
        "             & (df.Title !=  'Mrs')] = 'Others'\n",
        "\n",
        "# inspect the correlation between Title and Survived\n",
        "df[['Title', 'Survived']].groupby(['Title'], as_index=False).mean()"
      ],
      "execution_count": null,
      "outputs": []
    },
    {
      "cell_type": "code",
      "metadata": {
        "_cell_guid": "18a55b3d-677f-4611-a41e-be3f9ff49c67",
        "_execution_state": "idle",
        "_uuid": "77a517250b3a9b32da2436b8522e864e4e3e7016",
        "id": "2pnOI0A1YBSn",
        "colab_type": "code",
        "colab": {}
      },
      "source": [
        "# inspect the amount of people for each title\n",
        "df['Title'].value_counts()"
      ],
      "execution_count": null,
      "outputs": []
    },
    {
      "cell_type": "markdown",
      "metadata": {
        "_cell_guid": "a202dd9a-29af-4cfe-9a2e-0c64b3926dfa",
        "_execution_state": "idle",
        "_uuid": "bd9bc3dec16506459d2710400719a6acd41a1db3",
        "id": "DpCcJSWaYBSq",
        "colab_type": "text"
      },
      "source": [
        "Now we can use dummy encoding for these titles and drop the original names"
      ]
    },
    {
      "cell_type": "code",
      "metadata": {
        "_cell_guid": "516ceeba-2dab-4fff-8f5d-4fe94f4eddc8",
        "_execution_state": "idle",
        "_uuid": "3f031015c4e518d5b0b1874bac37a0d899eb2a60",
        "id": "bhuu8yAhYBSr",
        "colab_type": "code",
        "colab": {}
      },
      "source": [
        "df = pd.concat([df, pd.get_dummies(df['Title'])], axis=1).drop(labels=['Name'], axis=1)"
      ],
      "execution_count": null,
      "outputs": []
    },
    {
      "cell_type": "markdown",
      "metadata": {
        "_cell_guid": "58e43a50-20cc-40d4-bae8-ab455cd52887",
        "_execution_state": "idle",
        "_uuid": "60486db5b7e05da01f617a8555289670e1ab9c3a",
        "id": "cHeNXIjnYBSu",
        "colab_type": "text"
      },
      "source": [
        "## Sex"
      ]
    },
    {
      "cell_type": "code",
      "metadata": {
        "_cell_guid": "79870c7d-e04f-4269-bf4d-ff314bfc1e96",
        "_execution_state": "idle",
        "_uuid": "c8262045e243302a4d4e84426c4b8c2932a0702b",
        "id": "O_LbiVKzYBSv",
        "colab_type": "code",
        "colab": {}
      },
      "source": [
        "# check if there is any NAN\n",
        "df.Sex.isnull().sum(axis=0)"
      ],
      "execution_count": null,
      "outputs": []
    },
    {
      "cell_type": "code",
      "metadata": {
        "_cell_guid": "fbf9e34d-01cd-4004-a509-cbc94b66edbc",
        "_execution_state": "idle",
        "_uuid": "ff1e3b6673013d9ab3d16f113c3bc57520572d4a",
        "id": "ftKnrzh_YBSx",
        "colab_type": "code",
        "colab": {}
      },
      "source": [
        "# inspect the correlation between Sex and Survived\n",
        "df[['Sex', 'Survived']].groupby(['Sex'], as_index=False).mean()"
      ],
      "execution_count": null,
      "outputs": []
    },
    {
      "cell_type": "code",
      "metadata": {
        "_cell_guid": "b083a394-d2d4-4449-b745-77854545c825",
        "_execution_state": "idle",
        "_uuid": "4d5e24fded5c0296f278a2b8100c896c88050635",
        "id": "ygaH6eiTYBS0",
        "colab_type": "code",
        "colab": {}
      },
      "source": [
        "# map the two genders to 0 and 1\n",
        "df.Sex = df.Sex.map({'male':0, 'female':1})"
      ],
      "execution_count": null,
      "outputs": []
    },
    {
      "cell_type": "markdown",
      "metadata": {
        "_cell_guid": "a2e1256c-73d3-4f73-b51c-eb7aaca1790a",
        "_execution_state": "idle",
        "_uuid": "025f3222286d5591c0600ef07ed6ed0c8f1a3309",
        "id": "DreJ8svaYBS3",
        "colab_type": "text"
      },
      "source": [
        "## Age"
      ]
    },
    {
      "cell_type": "code",
      "metadata": {
        "_cell_guid": "8ba1f221-c912-4eac-a944-6b0afa88a382",
        "_execution_state": "idle",
        "_uuid": "30bc1b17267fb3eb668f4d383b649ecca05051a3",
        "id": "CZmWwRgVYBS3",
        "colab_type": "code",
        "colab": {}
      },
      "source": [
        "# check if there is any NAN\n",
        "df.Age.isnull().sum(axis=0)"
      ],
      "execution_count": null,
      "outputs": []
    },
    {
      "cell_type": "markdown",
      "metadata": {
        "_cell_guid": "9d8109e1-668f-4144-8c95-05ea613f289e",
        "_execution_state": "idle",
        "_uuid": "3b042fb55bde876d2a060574d673fdda3aac7f62",
        "id": "kBhy9GMuYBS6",
        "colab_type": "text"
      },
      "source": [
        "There are 263 missing values! Age can probably be inferred from other features such as Title, Fare, SibSp, Parch. So I decide to come back to Age after I finish inspecting the other features."
      ]
    },
    {
      "cell_type": "markdown",
      "metadata": {
        "_cell_guid": "441e1d2e-1b66-4482-ba21-987ac1d96b34",
        "_execution_state": "idle",
        "_uuid": "b812f4eb80b8b2d4116dafbc70991f6c9a6d8c1e",
        "id": "ICk8uJB6YBS6",
        "colab_type": "text"
      },
      "source": [
        "## SibSp and Parch "
      ]
    },
    {
      "cell_type": "code",
      "metadata": {
        "_cell_guid": "a4e895a6-47cf-4641-8228-14ea595a9ea2",
        "_execution_state": "idle",
        "_uuid": "a6cc2c00d763ac3f55f349f21d5679dfd9b5359b",
        "id": "W-r4JCpxYBS7",
        "colab_type": "code",
        "colab": {}
      },
      "source": [
        "# check if there is any NAN\n",
        "df.SibSp.isnull().sum(axis=0), df.Parch.isnull().sum(axis=0)"
      ],
      "execution_count": null,
      "outputs": []
    },
    {
      "cell_type": "code",
      "metadata": {
        "_cell_guid": "cca00b7a-da36-4903-a025-ef4c50dab61e",
        "_execution_state": "idle",
        "_uuid": "03437dedc00ad11570635e56ae79faee105bd808",
        "id": "gYHnSdU_YBS_",
        "colab_type": "code",
        "colab": {}
      },
      "source": [
        "# create a new feature \"Family\"\n",
        "df['Family'] = df['SibSp'] + df['Parch'] + 1\n",
        "\n",
        "# inspect the correlation between Family and Survived\n",
        "df[['Family', 'Survived']].groupby(['Family'], as_index=False).mean()"
      ],
      "execution_count": null,
      "outputs": []
    },
    {
      "cell_type": "code",
      "metadata": {
        "_cell_guid": "5217e017-3029-4fbe-afc6-3315d5937431",
        "_execution_state": "idle",
        "_uuid": "5099b2a2783647bce53f71acb07af846641b3c87",
        "id": "dgnh1iIRYBTB",
        "colab_type": "code",
        "colab": {}
      },
      "source": [
        "# inspect the amount of people for each Family size\n",
        "df['Family'].value_counts()"
      ],
      "execution_count": null,
      "outputs": []
    },
    {
      "cell_type": "markdown",
      "metadata": {
        "_cell_guid": "7f769875-af46-4e70-bfa4-a53735b85c57",
        "_execution_state": "idle",
        "_uuid": "c98645bee0444846e53674f073e837e370ca627f",
        "id": "avKrXpkXYBTE",
        "colab_type": "text"
      },
      "source": [
        "We can see that the survival rate increases with the family size, but not beyond Family = 4. Also, the amount of people in big families is much lower than those in small families. I will combine all the data with Family > 4 into one category. Since people in big families have an even lower survival rate (0.161290) than those who are alone, I decided to map data with Family > 4 to Family = 0, such that the survival rate always increases as Family increases."
      ]
    },
    {
      "cell_type": "code",
      "metadata": {
        "_cell_guid": "88730abd-facd-4842-ba22-6fab5e2ec332",
        "_execution_state": "idle",
        "_uuid": "2df0bad861e11098213fcbb90a7787504c793a9b",
        "id": "SNRWMezsYBTF",
        "colab_type": "code",
        "colab": {}
      },
      "source": [
        "df.Family = df.Family.map(lambda x: 0 if x > 4 else x)\n",
        "df[['Family', 'Survived']].groupby(['Family'], as_index=False).mean()"
      ],
      "execution_count": null,
      "outputs": []
    },
    {
      "cell_type": "code",
      "metadata": {
        "_cell_guid": "d26de4ea-d9c9-460d-8a2f-f3e388de9b83",
        "_execution_state": "idle",
        "_uuid": "b4055838fa086398aa33e6804cfc2ec871d72fc3",
        "id": "jLBRNtt-YBTL",
        "colab_type": "code",
        "colab": {}
      },
      "source": [
        "df['Family'].value_counts()"
      ],
      "execution_count": null,
      "outputs": []
    },
    {
      "cell_type": "markdown",
      "metadata": {
        "_cell_guid": "380e18ed-ce81-4a4c-ac47-bc8ac4db8122",
        "_execution_state": "idle",
        "_uuid": "9b02b9181f1224830ad4a93cb0477aa278ec4d38",
        "id": "airNrlyiYBTO",
        "colab_type": "text"
      },
      "source": [
        "## Ticket"
      ]
    },
    {
      "cell_type": "code",
      "metadata": {
        "_cell_guid": "3e355a5b-65dc-4072-9cf8-2aa9e2c5c311",
        "_execution_state": "idle",
        "_uuid": "09ad80a90051b181a3ffd1dd7deb7671dbce32b8",
        "id": "avKMeTauYBTO",
        "colab_type": "code",
        "colab": {}
      },
      "source": [
        "# check if there is any NAN\n",
        "df.Ticket.isnull().sum(axis=0)"
      ],
      "execution_count": null,
      "outputs": []
    },
    {
      "cell_type": "code",
      "metadata": {
        "_cell_guid": "dce618df-3f32-45a2-814b-ef392c2248b3",
        "_execution_state": "idle",
        "_uuid": "c8f76441795cf10e50a38c538da303a488741d08",
        "id": "49i7NlG-YBTQ",
        "colab_type": "code",
        "colab": {}
      },
      "source": [
        "df.Ticket.head(20)"
      ],
      "execution_count": null,
      "outputs": []
    },
    {
      "cell_type": "markdown",
      "metadata": {
        "_cell_guid": "a2be75c2-afb2-494c-bd25-b7847096b5ab",
        "_execution_state": "idle",
        "_uuid": "1690d160e88240d44fdaaebadfb066f782ba4880",
        "id": "sWypSR8iYBTT",
        "colab_type": "text"
      },
      "source": [
        "It looks like there are two types of tickets: (1) number (2) letters + number\n",
        "\n",
        "Ticket names with letters probably represent some special classes. For the numbers, the majority of tickets have their first digit = 1, 2, or 3, which probably also represent different classes. So I just keep the first element (a letter or a single-digit  number) of these ticket names"
      ]
    },
    {
      "cell_type": "code",
      "metadata": {
        "_cell_guid": "78913d9b-373b-41ad-bb86-2c4e3b18e183",
        "_execution_state": "idle",
        "_uuid": "4200860d04ec1319a5fa456a11ffe1f7138b7eb8",
        "id": "XcJropUWYBTT",
        "colab_type": "code",
        "colab": {}
      },
      "source": [
        "df.Ticket = df.Ticket.map(lambda x: x[0])\n",
        "\n",
        "# inspect the correlation between Ticket and Survived\n",
        "df[['Ticket', 'Survived']].groupby(['Ticket'], as_index=False).mean()"
      ],
      "execution_count": null,
      "outputs": []
    },
    {
      "cell_type": "code",
      "metadata": {
        "_cell_guid": "efd9bf4b-03bb-4f87-b709-f9662a1b2e51",
        "_execution_state": "idle",
        "_uuid": "e0a4426fc762e668c82b46fe9bd41fdb92786fa4",
        "id": "x1P1-_GCYBTV",
        "colab_type": "code",
        "colab": {}
      },
      "source": [
        "# inspect the amount of people for each type of tickets\n",
        "df['Ticket'].value_counts()"
      ],
      "execution_count": null,
      "outputs": []
    },
    {
      "cell_type": "markdown",
      "metadata": {
        "_cell_guid": "c02200fe-4f76-4545-b922-388e83e0c46f",
        "_execution_state": "idle",
        "_uuid": "fa14eac173c0c0914abc769ea9c9fa56ddfe4814",
        "id": "yLmiw5nyYBTZ",
        "colab_type": "text"
      },
      "source": [
        "We can see that the majority of tickets are indeed \"3\", \"2\", and \"1\", and their corresponding survival rates are \"1\" > \"2\" > \"3\". For the others, the survival rate is low except for \"9\",\"C\",\"F\",\"P\", and \"S\". However, \"9\" and \"F\" are very small sample. The correlation we see here probably comes from Pclass or Fare, so let's check."
      ]
    },
    {
      "cell_type": "code",
      "metadata": {
        "_cell_guid": "7d2ecc98-5a2a-4066-87ca-1fe5ca6594d2",
        "_execution_state": "idle",
        "_uuid": "7c911250fe2a3ab1ed23f97acce1cdb855cbc181",
        "id": "o8ZSNT-_YBTZ",
        "colab_type": "code",
        "colab": {}
      },
      "source": [
        "df[['Ticket', 'Fare']].groupby(['Ticket'], as_index=False).mean()"
      ],
      "execution_count": null,
      "outputs": []
    },
    {
      "cell_type": "code",
      "metadata": {
        "_cell_guid": "21e8a215-01a0-45d0-bc41-20f4a25aa509",
        "_execution_state": "idle",
        "_uuid": "d809da11e565b2524707b4086121c45f880a5554",
        "id": "H14su-U6YBTd",
        "colab_type": "code",
        "colab": {}
      },
      "source": [
        "df[['Ticket', 'Pclass']].groupby(['Ticket'], as_index=False).mean()"
      ],
      "execution_count": null,
      "outputs": []
    },
    {
      "cell_type": "markdown",
      "metadata": {
        "_cell_guid": "e7766f9b-7abb-4a73-8525-111948a3fbe0",
        "_execution_state": "idle",
        "_uuid": "fdb3e4965ae17b223816ab021681c6051be5466c",
        "id": "QR5xriYDYBTh",
        "colab_type": "text"
      },
      "source": [
        "Indeed, there is some relation between Ticket and Fare, or between Ticket and Pclass. Also, one interesting thing is that \"P\" corresponds to very high Fare and Pcalss (better than \"1\"). This is an additional information that cannot be seen in other features. So keeping Ticket as a feature might be useful.\n",
        "\n",
        "I'll come back to Ticket later. I don't further transform it now because its current form might be useful for guessing some missing values in other features. "
      ]
    },
    {
      "cell_type": "markdown",
      "metadata": {
        "_cell_guid": "4eab8333-25fd-46d1-a307-ac60f4c3f277",
        "_execution_state": "idle",
        "_uuid": "08aba02f0f1b6560033ddfcde7796ea2bdb5da7b",
        "id": "cC0z0wviYBTi",
        "colab_type": "text"
      },
      "source": [
        "## Fare"
      ]
    },
    {
      "cell_type": "code",
      "metadata": {
        "_cell_guid": "c245d17f-4245-4afa-a779-9256ce72057b",
        "_execution_state": "idle",
        "_uuid": "2f3a3c7dd4140e492f7b56ea21a25b0e54b3af8c",
        "id": "Dru4OVejYBTi",
        "colab_type": "code",
        "colab": {}
      },
      "source": [
        "# check if there is any NAN\n",
        "df.Fare.isnull().sum(axis=0)"
      ],
      "execution_count": null,
      "outputs": []
    },
    {
      "cell_type": "markdown",
      "metadata": {
        "_cell_guid": "bd6be329-c5fa-4657-94ee-f7c3752501b2",
        "_execution_state": "idle",
        "_uuid": "5e32f31957731db7558533682b03cb2be417c52c",
        "id": "gd2kuwOGYBTl",
        "colab_type": "text"
      },
      "source": [
        "Only one missing value. Fare can probably be inferred from Ticket, Pclass, Cabin and Embarked. Let's see the corresponding values of for these features."
      ]
    },
    {
      "cell_type": "code",
      "metadata": {
        "_cell_guid": "fcedc1d2-1fc9-4d15-bda6-4e0c7a8c1b79",
        "_execution_state": "idle",
        "_uuid": "279a4049e39c1350bbfb47815f4dc8bd64d84d76",
        "id": "WmaqLbgDYBTl",
        "colab_type": "code",
        "colab": {}
      },
      "source": [
        "df.Ticket[df.Fare.isnull()]"
      ],
      "execution_count": null,
      "outputs": []
    },
    {
      "cell_type": "code",
      "metadata": {
        "_cell_guid": "4809801d-6cae-47d3-bd02-9a9c615f99c6",
        "_execution_state": "idle",
        "_uuid": "056b56f133204ca80786d24925efbc93c3b7f399",
        "id": "p4hATnmgYBTt",
        "colab_type": "code",
        "colab": {}
      },
      "source": [
        "df.Pclass[df.Fare.isnull()]"
      ],
      "execution_count": null,
      "outputs": []
    },
    {
      "cell_type": "code",
      "metadata": {
        "_cell_guid": "9a90fe36-97a8-4378-8a1b-a11324d429e5",
        "_execution_state": "idle",
        "_uuid": "7ca9047deed61252837c0c85afa81ffcac8766c1",
        "id": "sG_qHG1XYBTx",
        "colab_type": "code",
        "colab": {}
      },
      "source": [
        "df.Cabin[df.Fare.isnull()]"
      ],
      "execution_count": null,
      "outputs": []
    },
    {
      "cell_type": "code",
      "metadata": {
        "_cell_guid": "2d51f02f-bcb3-424d-a18b-a251e63aacc9",
        "_execution_state": "idle",
        "_uuid": "481f6e7941608bff1133d8adf1354229b1a115fc",
        "id": "-k6WZ2VEYBT1",
        "colab_type": "code",
        "colab": {}
      },
      "source": [
        "df.Embarked[df.Fare.isnull()]"
      ],
      "execution_count": null,
      "outputs": []
    },
    {
      "cell_type": "markdown",
      "metadata": {
        "_cell_guid": "32bd21f6-386d-4ebe-8f57-b25b6bc4a725",
        "_execution_state": "idle",
        "_uuid": "09bb47eacbe4f20397fd5879a64676fbf8a8ac60",
        "id": "ZJanB_XRYBT4",
        "colab_type": "text"
      },
      "source": [
        "There is no corresponding value for Cabin, so let's look at the relation between Fare and the three features.  "
      ]
    },
    {
      "cell_type": "code",
      "metadata": {
        "_cell_guid": "6f9d5841-adf8-4c9c-9c59-39715827a0ad",
        "_execution_state": "idle",
        "_uuid": "0835a6f504f77c8d42245b5a9346e169bdc302a3",
        "id": "xAquIaoiYBT5",
        "colab_type": "code",
        "colab": {}
      },
      "source": [
        "# use boxplot to visualize the distribution of Fare for each Pclass\n",
        "sns.boxplot('Pclass','Fare',data=df)\n",
        "plt.ylim(0, 300) # ignore one data point with Fare > 500\n",
        "plt.show()"
      ],
      "execution_count": null,
      "outputs": []
    },
    {
      "cell_type": "code",
      "metadata": {
        "_cell_guid": "137bcdac-da05-49e6-8aed-6b4061f40c16",
        "_execution_state": "idle",
        "_uuid": "13c768161562d3c2c77a3f0ec8647e9dbf3eb146",
        "id": "bom_Bp04YBT7",
        "colab_type": "code",
        "colab": {}
      },
      "source": [
        "# inspect the correlation between Pclass and Fare\n",
        "df[['Pclass', 'Fare']].groupby(['Pclass']).mean()"
      ],
      "execution_count": null,
      "outputs": []
    },
    {
      "cell_type": "code",
      "metadata": {
        "_cell_guid": "95b35c28-1a17-4995-8d76-0160b07f4a68",
        "_execution_state": "idle",
        "_uuid": "a187382bb74abb543ec58f1b56c78a3c7767564b",
        "id": "D4-WX1gSYBT9",
        "colab_type": "code",
        "colab": {}
      },
      "source": [
        "# divide the standard deviation by the mean. A lower ratio means a tighter \n",
        "# distribution of Fare in each Pclass\n",
        "df[['Pclass', 'Fare']].groupby(['Pclass']).std() / df[['Pclass', 'Fare']].groupby(['Pclass']).mean()"
      ],
      "execution_count": null,
      "outputs": []
    },
    {
      "cell_type": "code",
      "metadata": {
        "_cell_guid": "9a40bab3-eee7-43e6-acdc-d70066aa8a34",
        "_execution_state": "idle",
        "_uuid": "47d8265715f80a20ede4648c53021ad5a509889e",
        "id": "Ie-pd4OqYBT_",
        "colab_type": "code",
        "colab": {}
      },
      "source": [
        "# use boxplot to visualize the distribution of Fare for each Ticket\n",
        "sns.boxplot('Ticket','Fare',data=df)\n",
        "plt.ylim(0, 300) # ignore one data point with Fare > 500\n",
        "plt.show()"
      ],
      "execution_count": null,
      "outputs": []
    },
    {
      "cell_type": "code",
      "metadata": {
        "_cell_guid": "0c52113f-bf33-4187-9393-49e050b0503c",
        "_execution_state": "idle",
        "_uuid": "3f7e7fb7ee1879e529ca16e7af2d72f4131f759f",
        "id": "Rz8SnwKLYBUD",
        "colab_type": "code",
        "colab": {}
      },
      "source": [
        "# inspect the correlation between Ticket and Fare \n",
        "# (we saw this earlier)\n",
        "df[['Ticket', 'Fare']].groupby(['Ticket']).mean()"
      ],
      "execution_count": null,
      "outputs": []
    },
    {
      "cell_type": "code",
      "metadata": {
        "_cell_guid": "cbd10230-dda2-4819-b330-3e67a6bef4a4",
        "_execution_state": "idle",
        "_uuid": "c6407a63d494490385a0024f572f3d3b7c1c5dc1",
        "id": "TUSeo6_dYBUG",
        "colab_type": "code",
        "colab": {}
      },
      "source": [
        "# divide the standard deviation by the mean. A lower ratio means a tighter \n",
        "# distribution of Fare in each Ticket type\n",
        "df[['Ticket', 'Fare']].groupby(['Ticket']).std() /  df[['Ticket', 'Fare']].groupby(['Ticket']).mean()"
      ],
      "execution_count": null,
      "outputs": []
    },
    {
      "cell_type": "code",
      "metadata": {
        "_cell_guid": "43b41c45-b149-44da-a031-42b409966f28",
        "_execution_state": "idle",
        "_uuid": "84e953d33cf72578729f20c54cb8c2e8c29bcb54",
        "id": "lJvCpYBPYBUJ",
        "colab_type": "code",
        "colab": {}
      },
      "source": [
        "# use boxplot to visualize the distribution of Fare for each Embarked\n",
        "sns.boxplot('Embarked','Fare',data=df)\n",
        "plt.ylim(0, 300) # ignore one data point with Fare > 500\n",
        "plt.show()"
      ],
      "execution_count": null,
      "outputs": []
    },
    {
      "cell_type": "code",
      "metadata": {
        "_cell_guid": "c4eb229d-67fc-423f-8d67-5d415e30ee53",
        "_execution_state": "idle",
        "_uuid": "c025b7ada92e44d73f768eaa49d39c49fb1dfd0c",
        "id": "xCKBqXcOYBUL",
        "colab_type": "code",
        "colab": {}
      },
      "source": [
        "# inspect the correlation between Embarked and Fare\n",
        "df[['Embarked', 'Fare']].groupby(['Embarked']).mean()"
      ],
      "execution_count": null,
      "outputs": []
    },
    {
      "cell_type": "code",
      "metadata": {
        "_cell_guid": "e34bef31-0dea-4c44-877e-98a72bd53036",
        "_execution_state": "idle",
        "_uuid": "af43b5c1114f3912f0c6b6015e53c12affb86ce5",
        "id": "fhhr2oAtYBUN",
        "colab_type": "code",
        "colab": {}
      },
      "source": [
        "# divide the standard deviation by the mean. A lower ratio means a tighter \n",
        "# distribution of Fare in each Embarked\n",
        "df[['Embarked', 'Fare']].groupby(['Embarked']).std() /  df[['Embarked', 'Fare']].groupby(['Embarked']).mean()"
      ],
      "execution_count": null,
      "outputs": []
    },
    {
      "cell_type": "markdown",
      "metadata": {
        "_cell_guid": "458e4c5d-5a34-4c88-8200-deff90767bba",
        "_execution_state": "idle",
        "_uuid": "145eb63ced56b167bab74eb977a86df69680a106",
        "id": "snMgPyFbYBUR",
        "colab_type": "text"
      },
      "source": [
        "Looks like Fare indeed has correlation with these three features. I'll guess the missing value using the median value of (Pcalss = 3) & (Ticket = 3) & (Embarked = S)"
      ]
    },
    {
      "cell_type": "code",
      "metadata": {
        "_cell_guid": "16822339-ab02-4799-b4ba-8c2ae824bb03",
        "_execution_state": "idle",
        "_uuid": "f277be6f1b7c6e16d77dc0353f885f28906e229a",
        "id": "Ut2WUeFPYBUR",
        "colab_type": "code",
        "colab": {}
      },
      "source": [
        "guess_Fare = df.Fare.loc[ (df.Ticket == '3') & (df.Pclass == 3) & (df.Embarked == 'S')].median()\n",
        "df.Fare.fillna(guess_Fare , inplace=True)\n",
        "\n",
        "# inspect the mean Fare values for people who died and survived\n",
        "df[['Fare', 'Survived']].groupby(['Survived'],as_index=False).mean()"
      ],
      "execution_count": null,
      "outputs": []
    },
    {
      "cell_type": "code",
      "metadata": {
        "_cell_guid": "e8477ab2-68ca-4632-835f-ba8df5a6ba36",
        "_execution_state": "idle",
        "_uuid": "2e55f9e20c72a0d8621b838ed15386c7ce3be9b4",
        "id": "i5W0N0r_YBUV",
        "colab_type": "code",
        "colab": {}
      },
      "source": [
        "# visualize the distribution of Fare for people who survived and died\n",
        "grid = sns.FacetGrid(df, hue='Survived', size=4, aspect=1.5)\n",
        "grid.map(plt.hist, 'Fare', alpha=.5, bins=range(0,210,10))\n",
        "grid.add_legend()\n",
        "plt.show()"
      ],
      "execution_count": null,
      "outputs": []
    },
    {
      "cell_type": "code",
      "metadata": {
        "_cell_guid": "0269e823-86a3-442b-b48c-dc659c8b2005",
        "_execution_state": "idle",
        "_uuid": "61e09e2b4fc7a0a1f31a3b066e80656794d73702",
        "id": "NCOQjeHaYBUY",
        "colab_type": "code",
        "colab": {}
      },
      "source": [
        "# visualize the correlation between Fare and Survived using a scatter plot\n",
        "df[['Fare', 'Survived']].groupby(['Fare'],as_index=False).mean().plot.scatter('Fare','Survived')\n",
        "plt.show()"
      ],
      "execution_count": null,
      "outputs": []
    },
    {
      "cell_type": "markdown",
      "metadata": {
        "_cell_guid": "bf22eb7f-78ae-4f28-9f2c-af8f754dadf2",
        "_execution_state": "idle",
        "_uuid": "92da518eed3f5e86bf7c05216f2697397b01bd9b",
        "id": "X51wcPOjYBUb",
        "colab_type": "text"
      },
      "source": [
        "We can see that people with lower Fare are less likely to survive. But this is certainly not a smooth curve if we don't bin the data. It would be better to feed machine learning algorithms with intervals of Fare, because using the original Fare values would likely cause over-fitting. "
      ]
    },
    {
      "cell_type": "code",
      "metadata": {
        "_cell_guid": "dfa08997-c349-4a56-b69d-1b32b9945730",
        "_execution_state": "idle",
        "_uuid": "5cd244995e5442dc614ce8dbcf4907d66b285345",
        "id": "VkLe5KChYBUc",
        "colab_type": "code",
        "colab": {}
      },
      "source": [
        "# bin Fare into five intervals with equal amount of people\n",
        "df['Fare-bin'] = pd.qcut(df.Fare,5,labels=[1,2,3,4,5]).astype(int)\n",
        "\n",
        "# inspect the correlation between Fare-bin and Survived\n",
        "df[['Fare-bin', 'Survived']].groupby(['Fare-bin'], as_index=False).mean()"
      ],
      "execution_count": null,
      "outputs": []
    },
    {
      "cell_type": "markdown",
      "metadata": {
        "_cell_guid": "c309b91d-cfa8-40fd-815f-1a41692a0b37",
        "_execution_state": "idle",
        "_uuid": "e715870983cdd7ce85a3c92a79672b247c6130c2",
        "id": "dxtYxwaiYBUj",
        "colab_type": "text"
      },
      "source": [
        "Now the correlation is clear after binning the data!\n",
        "\n",
        "## Cabin"
      ]
    },
    {
      "cell_type": "code",
      "metadata": {
        "_cell_guid": "cf7344e8-76ba-4ce7-807e-272f49272423",
        "_execution_state": "idle",
        "_uuid": "dc0da43c475aa71894141aa6578e22b01a99750e",
        "id": "vvTlnzr3YBUl",
        "colab_type": "code",
        "colab": {}
      },
      "source": [
        "# check if there is any NAN\n",
        "df.Cabin.isnull().sum(axis=0)"
      ],
      "execution_count": null,
      "outputs": []
    },
    {
      "cell_type": "markdown",
      "metadata": {
        "_cell_guid": "7402967a-0d91-46bf-a9f6-472d2254daf6",
        "_execution_state": "idle",
        "_uuid": "127d27c60b12b81c0ffc8c409b362bf13aba28e0",
        "id": "WHCd-ivFYBUn",
        "colab_type": "text"
      },
      "source": [
        "This is highly incomplete. We have two choices: (1) map the missing ones to a new cabin category \"unknown\" (2) just drop this feature. I have tried both and I decided to choose (2)"
      ]
    },
    {
      "cell_type": "code",
      "metadata": {
        "_cell_guid": "eed848fb-b155-41b2-be78-d04334111893",
        "_execution_state": "idle",
        "_uuid": "742f1b8d7a6e09087135754b14da0e9137b9a981",
        "id": "LM1qleeTYBUn",
        "colab_type": "code",
        "colab": {}
      },
      "source": [
        "df = df.drop(labels=['Cabin'], axis=1)"
      ],
      "execution_count": null,
      "outputs": []
    },
    {
      "cell_type": "markdown",
      "metadata": {
        "_cell_guid": "a61221c4-6b5b-489b-a124-35f2b3fae207",
        "_execution_state": "idle",
        "_uuid": "3506dbb251461b09ede6f1ece58c7f15340c6628",
        "id": "gItV3ObHYBUq",
        "colab_type": "text"
      },
      "source": [
        "## Embarked"
      ]
    },
    {
      "cell_type": "code",
      "metadata": {
        "_cell_guid": "8a8baacb-bcc3-439f-a540-0f5baac20b91",
        "_execution_state": "idle",
        "_uuid": "e1d3efbfad7ee51433326e86de59e2b9e8d5fb21",
        "id": "YG5opIaNYBUq",
        "colab_type": "code",
        "colab": {}
      },
      "source": [
        "# check if there is any NAN\n",
        "df.Embarked.isnull().sum(axis=0)"
      ],
      "execution_count": null,
      "outputs": []
    },
    {
      "cell_type": "code",
      "metadata": {
        "_cell_guid": "f7df232f-1f39-4aa6-8285-dcaa0c320e16",
        "_execution_state": "idle",
        "_uuid": "b21097135f1b6199b0b341ef12a88398b0c8f7ad",
        "id": "aFW_OHb9YBUt",
        "colab_type": "code",
        "colab": {}
      },
      "source": [
        "df.describe(include=['O']) # S is the most common"
      ],
      "execution_count": null,
      "outputs": []
    },
    {
      "cell_type": "code",
      "metadata": {
        "_cell_guid": "d65d5808-4d12-4a6c-8aa5-d67bd800a6fe",
        "_execution_state": "idle",
        "_uuid": "0833afac0ae691222f5436be2645a8e9120ca736",
        "id": "0EK1IMRbYBUv",
        "colab_type": "code",
        "colab": {}
      },
      "source": [
        "# fill the NAN\n",
        "df.Embarked.fillna('S' , inplace=True )"
      ],
      "execution_count": null,
      "outputs": []
    },
    {
      "cell_type": "code",
      "metadata": {
        "_cell_guid": "c5a5acd2-47f4-4eda-8cee-7f5759a80ec1",
        "_execution_state": "idle",
        "_uuid": "49fe53c86777c9b62b94a5b559ce15006368458d",
        "id": "yFq1x73bYBU3",
        "colab_type": "code",
        "colab": {}
      },
      "source": [
        "# inspect the correlation between Embarked and Survived as well as some other features\n",
        "df[['Embarked', 'Survived','Pclass','Fare', 'Age', 'Sex']].groupby(['Embarked'], as_index=False).mean()"
      ],
      "execution_count": null,
      "outputs": []
    },
    {
      "cell_type": "markdown",
      "metadata": {
        "_cell_guid": "3e3eaa3f-b1a5-4be6-9729-1e30cbc01a0e",
        "_execution_state": "idle",
        "_uuid": "fb39d5b06084ca96508f79ad2a47499d1ea40a17",
        "id": "Oe4OME4cYBU8",
        "colab_type": "text"
      },
      "source": [
        "The survival rate does change between different Embarked values. However, it is due to the changes of other features. For example, people from Embarked = C are more likely to survive because they are generally richer (Pclass, Fare). People from Embarked = S has the lowest survival rate because it has the lowest fraction of female passengers, even though they are a bit richer than people from Embarked = Q.\n",
        "\n",
        "I therefore decided to drop this feature as well."
      ]
    },
    {
      "cell_type": "code",
      "metadata": {
        "_cell_guid": "2a43f956-9690-4869-bd67-442c338bc57a",
        "_execution_state": "idle",
        "_uuid": "1426a18aa9b7a7dd0f18b260ec13f2d245f3a5a4",
        "id": "rmewBf0MYBU-",
        "colab_type": "code",
        "colab": {}
      },
      "source": [
        "df = df.drop(labels='Embarked', axis=1)"
      ],
      "execution_count": null,
      "outputs": []
    },
    {
      "cell_type": "markdown",
      "metadata": {
        "_cell_guid": "9e86d08b-d099-459f-a12d-9ac05f541809",
        "_execution_state": "idle",
        "_uuid": "fba9df368d19be2a982996ef0c2aaf32596bb072",
        "id": "quc0pTxuYBVB",
        "colab_type": "text"
      },
      "source": [
        "Now we can go back to **Age** and try to fill the missing values. Let's see how it relates to other features"
      ]
    },
    {
      "cell_type": "code",
      "metadata": {
        "_cell_guid": "c8fd62bb-30ea-4675-a593-771c6b8c8333",
        "_execution_state": "idle",
        "_uuid": "0972d4354355d154e63aa5ec97565260898749f5",
        "id": "5HiUjK3EYBVC",
        "colab_type": "code",
        "colab": {}
      },
      "source": [
        "# visualize the correlation between Title and Age\n",
        "grid = sns.FacetGrid(df, col='Title', size=3, aspect=0.8, sharey=False)\n",
        "grid.map(plt.hist, 'Age', alpha=.5, bins=range(0,105,5))\n",
        "plt.show()"
      ],
      "execution_count": null,
      "outputs": []
    },
    {
      "cell_type": "code",
      "metadata": {
        "_cell_guid": "770f5c78-948f-4261-ae6f-dda0a05da8e6",
        "_execution_state": "idle",
        "_uuid": "9b312ecc51104501196e3f6806abc92d29e9eb46",
        "id": "eb6YYXK1YBVF",
        "colab_type": "code",
        "colab": {}
      },
      "source": [
        "# inspect the mean Age for each Title\n",
        "df[['Title', 'Age']].groupby(['Title']).mean()"
      ],
      "execution_count": null,
      "outputs": []
    },
    {
      "cell_type": "code",
      "metadata": {
        "_cell_guid": "b81954da-2e36-410f-9505-c6b7ae26803f",
        "_execution_state": "idle",
        "_uuid": "ba25e608acce46fba9b0c623f8b62b91f29151a7",
        "id": "OS810mYHYBVI",
        "colab_type": "code",
        "colab": {}
      },
      "source": [
        "# inspect the standard deviation of Age for each Title\n",
        "df[['Title', 'Age']].groupby(['Title']).std()"
      ],
      "execution_count": null,
      "outputs": []
    },
    {
      "cell_type": "code",
      "metadata": {
        "_cell_guid": "38208976-cd0d-4756-aebc-5d980d7357a5",
        "_execution_state": "idle",
        "_uuid": "3d9ea40ed50748bfac7990788916d49eb3886174",
        "id": "lmGd3hXQYBVN",
        "colab_type": "code",
        "colab": {}
      },
      "source": [
        "# visualize the correlation between Fare-bin and Age\n",
        "grid = sns.FacetGrid(df, col='Fare-bin', size=3, aspect=0.8, sharey=False)\n",
        "grid.map(plt.hist, 'Age', alpha=.5, bins=range(0,105,5))\n",
        "plt.show()"
      ],
      "execution_count": null,
      "outputs": []
    },
    {
      "cell_type": "code",
      "metadata": {
        "_cell_guid": "d63fb4e1-0c8d-423d-bf93-5821b08fde51",
        "_execution_state": "idle",
        "_uuid": "d8472c4371963ccdc90498b657d3f7f26e9f1e99",
        "id": "xzo5rWPWYBVP",
        "colab_type": "code",
        "colab": {}
      },
      "source": [
        "# inspect the mean Age for each Fare-bin\n",
        "df[['Fare-bin', 'Age']].groupby(['Fare-bin']).mean()"
      ],
      "execution_count": null,
      "outputs": []
    },
    {
      "cell_type": "code",
      "metadata": {
        "_cell_guid": "40a7c6d6-c3ae-46f0-baef-352ff8509783",
        "_execution_state": "idle",
        "_uuid": "3fb0839aa1bb049ea5998f458ad939272a736345",
        "id": "fSgnAre1YBVS",
        "colab_type": "code",
        "colab": {}
      },
      "source": [
        "# inspect the standard deviation of Age for each Fare-bin\n",
        "df[['Fare-bin', 'Age']].groupby(['Fare-bin']).std()"
      ],
      "execution_count": null,
      "outputs": []
    },
    {
      "cell_type": "code",
      "metadata": {
        "_cell_guid": "37c1feaf-efa8-467a-8fe3-90b8773bde01",
        "_execution_state": "idle",
        "_uuid": "cab042b668d7f35dd2b778162835bcb5a0bc1aed",
        "id": "hJG0sLuSYBVa",
        "colab_type": "code",
        "colab": {}
      },
      "source": [
        "# visualize the correlation between SibSp and Age\n",
        "grid = sns.FacetGrid(df, col='SibSp', col_wrap=4, size=3.0, aspect=0.8, sharey=False)\n",
        "grid.map(plt.hist, 'Age', alpha=.5, bins=range(0,105,5))\n",
        "plt.show()"
      ],
      "execution_count": null,
      "outputs": []
    },
    {
      "cell_type": "code",
      "metadata": {
        "_cell_guid": "ceab6b91-e6bd-4c0f-b7c2-31847b1ee61b",
        "_execution_state": "idle",
        "_uuid": "612aec4215b2e4c16806aa768ddd1f565fdfe78b",
        "id": "Zwgjz3JtYBVf",
        "colab_type": "code",
        "colab": {}
      },
      "source": [
        "# inspect the mean Age for each SibSp\n",
        "df[['SibSp', 'Age']].groupby(['SibSp']).mean()"
      ],
      "execution_count": null,
      "outputs": []
    },
    {
      "cell_type": "code",
      "metadata": {
        "_cell_guid": "eb7a277e-0e3c-4507-ba41-2c9d223f293a",
        "_execution_state": "idle",
        "_uuid": "d40475272e30ea20b5eeff47d49a5664a2a8303f",
        "id": "b0g12jqhYBVk",
        "colab_type": "code",
        "colab": {}
      },
      "source": [
        "# inspect the standard deviation of Age for each SibSp\n",
        "df[['SibSp', 'Age']].groupby(['SibSp']).std()"
      ],
      "execution_count": null,
      "outputs": []
    },
    {
      "cell_type": "code",
      "metadata": {
        "_cell_guid": "ab9d9000-de9f-4ca0-b817-c53184d74c9a",
        "_execution_state": "idle",
        "_uuid": "b2201e9af0c379e0b1bcc0e7a23e08043c241645",
        "id": "gcWThQg0YBVr",
        "colab_type": "code",
        "colab": {}
      },
      "source": [
        "# visualize the correlation between Parch and Age\n",
        "grid = sns.FacetGrid(df, col='Parch', col_wrap=4, size=3.0, aspect=0.8, sharey=False)\n",
        "grid.map(plt.hist, 'Age', alpha=.5, bins=range(0,105,5))\n",
        "plt.show()"
      ],
      "execution_count": null,
      "outputs": []
    },
    {
      "cell_type": "code",
      "metadata": {
        "_cell_guid": "38a4399d-3e36-44ab-8269-a10d6b6aecc8",
        "_execution_state": "idle",
        "_uuid": "42db5280471f9bd3acefe047daccfefcd3bf1a00",
        "id": "YdxfttPdYBVu",
        "colab_type": "code",
        "colab": {}
      },
      "source": [
        "# inspect the mean Age for each Parch\n",
        "df[['Parch', 'Age']].groupby(['Parch']).mean()"
      ],
      "execution_count": null,
      "outputs": []
    },
    {
      "cell_type": "code",
      "metadata": {
        "_cell_guid": "4e914c54-23d4-46dc-9a7e-fc9e0e038254",
        "_execution_state": "idle",
        "_uuid": "79cb7ffd9ea2ac77fe8bae5d7264986be56604ec",
        "id": "2oudBoHxYBV0",
        "colab_type": "code",
        "colab": {}
      },
      "source": [
        "# inspect the standard deviation of Age for each Parch\n",
        "df[['Parch', 'Age']].groupby(['Parch']).std() "
      ],
      "execution_count": null,
      "outputs": []
    },
    {
      "cell_type": "markdown",
      "metadata": {
        "_cell_guid": "261cde48-f8d6-416e-841b-41db0a4cd4f2",
        "_execution_state": "idle",
        "_uuid": "3efc07530073013678ddabcd8824d1353a413a2a",
        "id": "P23NdtjsYBV4",
        "colab_type": "text"
      },
      "source": [
        "The change of Age as a function of Title, Fare-bin, or SibSp is quite significant, so I'll use them to guess the missing values. I use a random forest regressor to do this. "
      ]
    },
    {
      "cell_type": "code",
      "metadata": {
        "_cell_guid": "020c9de0-ff1c-4eed-be20-cbff19cac018",
        "_execution_state": "idle",
        "_uuid": "9334adf52175fe53abf8138378f4a83efaf77ffb",
        "id": "wUjDdl0tYBV4",
        "colab_type": "code",
        "colab": {}
      },
      "source": [
        "# notice that instead of using Title, we should use its corresponding dummy variables \n",
        "df_sub = df[['Age','Master','Miss','Mr','Mrs','Others','Fare-bin','SibSp']]\n",
        "\n",
        "X_train  = df_sub.dropna().drop('Age', axis=1)\n",
        "y_train  = df['Age'].dropna()\n",
        "X_test = df_sub.loc[np.isnan(df.Age)].drop('Age', axis=1)\n",
        "\n",
        "regressor = RandomForestRegressor(n_estimators = 300)\n",
        "regressor.fit(X_train, y_train)\n",
        "y_pred = np.round(regressor.predict(X_test),1)\n",
        "df.Age.loc[df.Age.isnull()] = y_pred\n",
        "\n",
        "df.Age.isnull().sum(axis=0) # no more NAN now"
      ],
      "execution_count": null,
      "outputs": []
    },
    {
      "cell_type": "markdown",
      "metadata": {
        "_cell_guid": "0f997e33-7307-4214-9f2c-864cfe6507ae",
        "_execution_state": "idle",
        "_uuid": "e929dc750bae391f233e85ec445680e93f7caed0",
        "id": "d-BFM7aCYBV8",
        "colab_type": "text"
      },
      "source": [
        "And then we still need to bin the data into different Age intervals, for the same reason as Fare"
      ]
    },
    {
      "cell_type": "code",
      "metadata": {
        "_cell_guid": "8a4ce8e1-b212-4d6a-8d8b-ad56bf8acf72",
        "_execution_state": "idle",
        "_uuid": "5f9658c201cd82bf031d49803d4045fe847d81e8",
        "id": "kTdWv7vGYBV9",
        "colab_type": "code",
        "colab": {}
      },
      "source": [
        "bins = [ 0, 4, 12, 18, 30, 50, 65, 100] # This is somewhat arbitrary...\n",
        "age_index = (1,2,3,4,5,6,7)\n",
        "#('baby','child','teenager','young','mid-age','over-50','senior')\n",
        "df['Age-bin'] = pd.cut(df.Age, bins, labels=age_index).astype(int)\n",
        "\n",
        "df[['Age-bin', 'Survived']].groupby(['Age-bin'],as_index=False).mean()"
      ],
      "execution_count": null,
      "outputs": []
    },
    {
      "cell_type": "markdown",
      "metadata": {
        "_cell_guid": "567b32bc-2546-46a0-9531-84db97892585",
        "_execution_state": "idle",
        "_uuid": "d3ffb421e2309cb0c8b5ba9feecec756463ec51f",
        "id": "4-8U-8ZtYBWA",
        "colab_type": "text"
      },
      "source": [
        "Now we can look at **Ticket** again "
      ]
    },
    {
      "cell_type": "code",
      "metadata": {
        "_cell_guid": "4f3f0831-83e7-44e4-a69e-5f5fe024e122",
        "_execution_state": "idle",
        "_uuid": "a7a0e7795ab628123de85df8cb6c2eac84185165",
        "id": "hPkzIeeWYBWA",
        "colab_type": "code",
        "colab": {}
      },
      "source": [
        "df[['Ticket', 'Survived']].groupby(['Ticket'], as_index=False).mean()"
      ],
      "execution_count": null,
      "outputs": []
    },
    {
      "cell_type": "code",
      "metadata": {
        "_cell_guid": "7b0bc205-5f92-4ba1-9a52-8c6b2bb91093",
        "_execution_state": "idle",
        "_uuid": "1c5a38e61a105b5ad40fc1f159725c30c65e71bc",
        "id": "347flLjbYBWH",
        "colab_type": "code",
        "colab": {}
      },
      "source": [
        "df['Ticket'].value_counts()"
      ],
      "execution_count": null,
      "outputs": []
    },
    {
      "cell_type": "markdown",
      "metadata": {
        "_cell_guid": "0bd6f05c-e267-4bf8-baf8-7547b21f9195",
        "_execution_state": "idle",
        "_uuid": "4d2295dc930b6fe16dc55d81d5c8376129e8b868",
        "id": "46th3yvaYBWK",
        "colab_type": "text"
      },
      "source": [
        "The main categories of Ticket are \"1\", \"2\", \"3\", \"P\", \"S\", and \"C\", so I will combine all the others into \"4\""
      ]
    },
    {
      "cell_type": "code",
      "metadata": {
        "_cell_guid": "58fe643e-abf9-4761-bba1-674d3304aba2",
        "_execution_state": "idle",
        "_uuid": "7f12fa7d7d6ee803835e5768b9da2a92e1468969",
        "id": "j3V57dwAYBWK",
        "colab_type": "code",
        "colab": {}
      },
      "source": [
        "df['Ticket'] = df['Ticket'].replace(['A','W','F','L','5','6','7','8','9'], '4')\n",
        "\n",
        "# check the correlation again\n",
        "df[['Ticket', 'Survived']].groupby(['Ticket'], as_index=False).mean()"
      ],
      "execution_count": null,
      "outputs": []
    },
    {
      "cell_type": "code",
      "metadata": {
        "_cell_guid": "76238516-9a91-4238-8fc7-abdd64af5435",
        "_execution_state": "idle",
        "_uuid": "ac5457d8c3d71e35495d2aeaca2008cabc1b0bae",
        "id": "xnXkjQpGYBWU",
        "colab_type": "code",
        "colab": {}
      },
      "source": [
        "# dummy encoding\n",
        "df = pd.get_dummies(df,columns=['Ticket'])"
      ],
      "execution_count": null,
      "outputs": []
    },
    {
      "cell_type": "markdown",
      "metadata": {
        "_cell_guid": "3830c0ea-b163-4e51-b41a-212481e2684d",
        "_execution_state": "idle",
        "_uuid": "ad7631b36daae060b7159e668f30da96d28c8ff8",
        "id": "DYdfs-5PYBWX",
        "colab_type": "text"
      },
      "source": [
        "## Modeling and Prediction\n",
        "Now we can drop the features we don't need and split the data into training and test sets"
      ]
    },
    {
      "cell_type": "code",
      "metadata": {
        "_cell_guid": "e859e686-72db-4608-a89e-24a9e9b52e47",
        "_execution_state": "idle",
        "_uuid": "df4d6e82a6a6fac2c995d55f829085f9afee3267",
        "id": "XGdo_XdVYBWX",
        "colab_type": "code",
        "colab": {}
      },
      "source": [
        "df = df.drop(labels=['SibSp','Parch','Age','Fare','Title'], axis=1)\n",
        "y_train = df[0:891]['Survived'].values\n",
        "X_train = df[0:891].drop(['Survived','PassengerId'], axis=1).values\n",
        "X_test  = df[891:].drop(['Survived','PassengerId'], axis=1).values"
      ],
      "execution_count": null,
      "outputs": []
    },
    {
      "cell_type": "code",
      "metadata": {
        "_cell_guid": "1b0b8eed-36fc-4d4c-8ef1-1dc96becdc39",
        "_execution_state": "idle",
        "_kg_hide-output": true,
        "_uuid": "1dfd64f73918b8cacdb76f40a0a969c46accaefc",
        "id": "8b1eGzojYBWa",
        "colab_type": "code",
        "colab": {}
      },
      "source": [
        "# Initialising the NN\n",
        "model = Sequential()\n",
        "\n",
        "# layers\n",
        "model.add(Dense(units = 9, kernel_initializer = 'uniform', activation = 'relu', input_dim = 17))\n",
        "model.add(Dense(units = 9, kernel_initializer = 'uniform', activation = 'relu'))\n",
        "model.add(Dense(units = 5, kernel_initializer = 'uniform', activation = 'relu'))\n",
        "model.add(Dense(units = 1, kernel_initializer = 'uniform', activation = 'sigmoid'))\n",
        "\n",
        "# Compiling the ANN\n",
        "model.compile(optimizer = 'adam', loss = 'binary_crossentropy', metrics = ['accuracy'])\n",
        "\n",
        "# Train the ANN\n",
        "model.fit(X_train, y_train, batch_size = 32, epochs = 200)"
      ],
      "execution_count": null,
      "outputs": []
    },
    {
      "cell_type": "code",
      "metadata": {
        "_cell_guid": "4a651081-886a-4a9a-8324-a264483d0721",
        "_execution_state": "idle",
        "_uuid": "7a6c2f2885d7caf67993db99f6880d53e5880372",
        "id": "P0WZnd5IYBWd",
        "colab_type": "code",
        "colab": {}
      },
      "source": [
        "y_pred = model.predict(X_test)\n",
        "y_final = (y_pred > 0.5).astype(int).reshape(X_test.shape[0])\n",
        "\n",
        "output = pd.DataFrame({'PassengerId': df_test['PassengerId'], 'Survived': y_final})\n",
        "output.to_csv('prediction-ann.csv', index=False)"
      ],
      "execution_count": null,
      "outputs": []
    },
    {
      "cell_type": "code",
      "metadata": {
        "id": "X7XK0-hxYBWg",
        "colab_type": "code",
        "colab": {}
      },
      "source": [
        ""
      ],
      "execution_count": null,
      "outputs": []
    }
  ]
}